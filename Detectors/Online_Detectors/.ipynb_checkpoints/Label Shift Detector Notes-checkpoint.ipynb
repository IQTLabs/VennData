{
 "cells": [
  {
   "cell_type": "code",
   "execution_count": null,
   "metadata": {},
   "outputs": [],
   "source": [
    "#Classes \n",
    "from OnlineDetectors import FilterAlgorithm, NetworkModels, DataSetManipulator\n",
    "\n",
    "import tensorflow_datasets as tfds\n",
    "\n",
    "import torch\n",
    "from torch import nn\n",
    "from torch.utils.data import TensorDataset, DataLoader\n",
    "from torch import optim \n",
    "\n",
    "import numpy as np\n",
    "\n",
    "device = torch.device(\"cuda:0\")\n",
    "\n",
    "torch.cuda.set_device(device)"
   ]
  },
  {
   "cell_type": "markdown",
   "metadata": {},
   "source": [
    "# Import and set-up MNIST data set from tensorflow datasets \n",
    "Here we set up the data sets for training the neural network"
   ]
  },
  {
   "cell_type": "code",
   "execution_count": null,
   "metadata": {},
   "outputs": [],
   "source": [
    "training_images, training_labels = tfds.as_numpy(tfds.load(\n",
    "                                        'mnist',\n",
    "                                        split='train', \n",
    "                                        batch_size=-1, \n",
    "                                        as_supervised=True,\n",
    "                                    ))\n",
    "\n",
    "testing_images, testing_labels = tfds.as_numpy(tfds.load(\n",
    "                                        'mnist',\n",
    "                                        split='test', \n",
    "                                        batch_size=-1, \n",
    "                                        as_supervised=True,\n",
    "                                    ))"
   ]
  },
  {
   "cell_type": "code",
   "execution_count": null,
   "metadata": {},
   "outputs": [],
   "source": [
    "model = nn.Sequential(\n",
    "                nn.Conv1d(1,10,kernel_size=(3,3)),\n",
    "                nn.ReLU(),\n",
    "                nn.Conv1d(10,100,kernel_size=(3,3)),\n",
    "                nn.ReLU(),\n",
    "                nn.Flatten(),\n",
    "                nn.Linear(57600,10),\n",
    "            )"
   ]
  },
  {
   "cell_type": "code",
   "execution_count": null,
   "metadata": {},
   "outputs": [],
   "source": [
    "training_images_pytorch = torch.Tensor(training_images).transpose(1,3)\n",
    "training_labels_pytorch = torch.Tensor(training_labels).type(torch.LongTensor)\n",
    "\n",
    "testing_images_pytorch = torch.Tensor(testing_images).transpose(1,3)\n",
    "testing_labels_pytorch = torch.Tensor(testing_labels).type(torch.LongTensor)\n",
    "\n",
    "training_dataset = TensorDataset(training_images_pytorch,training_labels_pytorch)\n",
    "testing_dataset  = TensorDataset(testing_images_pytorch,testing_labels_pytorch)\n",
    "\n",
    "training_loader = DataLoader(training_dataset, batch_size=5, shuffle=True, pin_memory=True,drop_last=True)\n",
    "testing_loader  = DataLoader(testing_dataset, batch_size=5, shuffle=True, pin_memory=True,drop_last=True)"
   ]
  },
  {
   "cell_type": "code",
   "execution_count": null,
   "metadata": {},
   "outputs": [],
   "source": [
    "loss_array, accuracy_array = NetworkModels.TrainNetwork(model,device,training_loader,testing_loader,10)"
   ]
  },
  {
   "cell_type": "markdown",
   "metadata": {},
   "source": [
    "# Find frequency of labels within training set\n",
    "The function `FilterAlgorithm.calculate_lambda` calculates the frequency a label appears in the training data set. Then, the function `FilterAlgorithm.runDetector` detects if there is a change in label distribution "
   ]
  },
  {
   "cell_type": "code",
   "execution_count": null,
   "metadata": {},
   "outputs": [],
   "source": [
    "lambda_vals_training = FilterAlgorithm.calculate_lambda(training_labels_pytorch,torch.Tensor(np.arange(0,10)).int())"
   ]
  },
  {
   "cell_type": "code",
   "execution_count": null,
   "metadata": {},
   "outputs": [],
   "source": [
    "testing_images_pytorch = torch.Tensor(testing_images).transpose(1,3)\n",
    "testing_labels_pytorch = torch.Tensor(testing_labels).type(torch.LongTensor)\n",
    "testing_dataset        = TensorDataset(testing_images_pytorch,testing_labels_pytorch)\n",
    "testing_loader         = DataLoader(testing_dataset, batch_size=1, shuffle=True, pin_memory=True,drop_last=True)\n",
    "\n",
    "detection_images,detection_labels = DataSetManipulator.shiftLabelDistribution(testing_images_pytorch,testing_labels_pytorch,2,0.1)\n",
    "detection_dataset = TensorDataset(detection_images,detection_labels)\n",
    "detection_loader  = DataLoader(detection_dataset, batch_size=1, shuffle=True, pin_memory=True,drop_last=True)\n"
   ]
  },
  {
   "cell_type": "code",
   "execution_count": null,
   "metadata": {},
   "outputs": [],
   "source": [
    "r_null   = FilterAlgorithm.runDetector(model,device,lambda_vals_training,testing_loader,0.01)\n",
    "r_detect = FilterAlgorithm.runDetector(model,device,lambda_vals_training,detection_loader,0.01)"
   ]
  },
  {
   "cell_type": "markdown",
   "metadata": {},
   "source": [
    "# Plot detection signal"
   ]
  },
  {
   "cell_type": "code",
   "execution_count": null,
   "metadata": {},
   "outputs": [],
   "source": [
    "import PlottingFigures\n",
    "import matplotlib.pyplot as plt\n",
    "\n",
    "PlottingFigures.timeSeries(r_null,r_detect)"
   ]
  },
  {
   "cell_type": "code",
   "execution_count": null,
   "metadata": {},
   "outputs": [],
   "source": [
    "PlottingFigures.plotHistogram(r_null,r_detect,15)"
   ]
  }
 ],
 "metadata": {
  "kernelspec": {
   "display_name": "Python 3",
   "language": "python",
   "name": "python3"
  },
  "language_info": {
   "codemirror_mode": {
    "name": "ipython",
    "version": 3
   },
   "file_extension": ".py",
   "mimetype": "text/x-python",
   "name": "python",
   "nbconvert_exporter": "python",
   "pygments_lexer": "ipython3",
   "version": "3.7.3"
  }
 },
 "nbformat": 4,
 "nbformat_minor": 4
}
