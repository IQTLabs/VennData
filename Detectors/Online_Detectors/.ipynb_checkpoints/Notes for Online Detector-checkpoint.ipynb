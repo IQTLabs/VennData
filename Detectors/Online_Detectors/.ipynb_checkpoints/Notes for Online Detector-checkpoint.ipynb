{
 "cells": [
  {
   "cell_type": "code",
   "execution_count": 1,
   "metadata": {},
   "outputs": [],
   "source": [
    "import sys"
   ]
  },
  {
   "cell_type": "code",
   "execution_count": null,
   "metadata": {},
   "outputs": [],
   "source": [
    "vennDataPath = ''\n",
    "sys.path.insert(0,vennDataPath)"
   ]
  },
  {
   "cell_type": "code",
   "execution_count": null,
   "metadata": {},
   "outputs": [],
   "source": [
    "from Online_Detectors import Online_Detection\n",
    "from Utils import NetworkFunctions"
   ]
  },
  {
   "cell_type": "code",
   "execution_count": null,
   "metadata": {},
   "outputs": [],
   "source": [
    "import torch\n",
    "import torchvision\n",
    "\n",
    "import torch.nn as nn\n",
    "import torch.nn.functional as F\n",
    "\n",
    "import tensorflow_datasets as tfds\n",
    "\n",
    "import numpy as np\n",
    "\n",
    "import matplotlib.pyplot as plt\n",
    "\n",
    "from torch.utils.data import TensorDataset, DataLoader\n",
    "from torch import optim \n",
    "\n",
    "import os \n",
    "\n",
    "from scipy.stats import chi2\n",
    "\n",
    "device = torch.device(\"cuda:0\")\n",
    "\n",
    "torch.cuda.set_device(device)"
   ]
  },
  {
   "cell_type": "markdown",
   "metadata": {},
   "source": [
    "# Set up classifier for detection\n",
    "Here we will use resnet18 with dropout. This model can change."
   ]
  },
  {
   "cell_type": "code",
   "execution_count": null,
   "metadata": {},
   "outputs": [],
   "source": [
    "detector_model    = torchvision.models.resnet18(pretrained=True)\n",
    "detector_model.fc = nn.Linear(512,10)\n",
    "detector_model.to(device)\n",
    "\n",
    "filename = 'Cifar10_Model.pth'\n",
    "pathname = '/home/jgornet/VennData/Online_Detectors/Covariate_Shift/'\n",
    "\n",
    "save_path = os.path.join(pathname,filename)\n",
    "\n",
    "detector_model = nn.Sequential(detector_model,\n",
    "                               nn.Dropout(),\n",
    "                              )\n",
    "\n",
    "detector_model.train()\n"
   ]
  },
  {
   "cell_type": "code",
   "execution_count": null,
   "metadata": {},
   "outputs": [],
   "source": [
    "training_loader, testing_loader, num_training, num_testing = NetworkFunctions.loadCifar10Data(100)"
   ]
  },
  {
   "cell_type": "code",
   "execution_count": null,
   "metadata": {},
   "outputs": [],
   "source": [
    "loss_function = nn.CrossEntropyLoss()\n",
    "optimizer     = optim.Adam(detector_model.parameters(),lr=0.00001,weight_decay=0.0)\n",
    "\n",
    "NetworkFunctions.trainNetwork(detector_model,loss_function,optimizer,device,training_loader,testing_loader,num_training,num_testing,301,save_path)"
   ]
  },
  {
   "cell_type": "code",
   "execution_count": null,
   "metadata": {},
   "outputs": [],
   "source": [
    "torch.save(detector_model.state_dict(),save_path)"
   ]
  },
  {
   "cell_type": "markdown",
   "metadata": {},
   "source": [
    "# Set up detector and its parameters\n",
    "Here we set up the parameters for the detector for detection."
   ]
  },
  {
   "cell_type": "code",
   "execution_count": null,
   "metadata": {},
   "outputs": [],
   "source": [
    "epsilon = 0.001\n",
    "\n",
    "detector_model.eval()\n",
    "\n",
    "detector = Online_Detection.Detector(epsilon,detector_model,device,10)"
   ]
  },
  {
   "cell_type": "code",
   "execution_count": null,
   "metadata": {},
   "outputs": [],
   "source": [
    "training_loader, testing_loader, num_training, num_testing = NetworkFunctions.loadCifar10Data(1)"
   ]
  },
  {
   "cell_type": "code",
   "execution_count": null,
   "metadata": {},
   "outputs": [],
   "source": [
    "lambda_values = detector.calculate_dataset_lambda_values(training_loader)\n",
    "detector.set_lambda_values(lambda_values)\n",
    "\n",
    "detector.set_covariance()\n",
    "detector.set_threshold(0.01)\n"
   ]
  },
  {
   "cell_type": "code",
   "execution_count": null,
   "metadata": {},
   "outputs": [],
   "source": [
    "numEpoch = int(1)\n",
    "numIter  = int(1e4)\n",
    "\n",
    "lambda_values = detector.get_lambda_values()\n",
    "device        = detector.get_device()\n",
    "model         = detector.get_model()\n",
    "\n",
    "accuracy = []\n",
    "\n",
    "x = np.zeros([len(lambda_values)])\n",
    "y = np.zeros([len(lambda_values)])\n",
    "\n",
    "indv_class_detection_signal_array = []\n",
    "total_detection_signal_array      = []\n",
    "\n",
    "for epoch in range(numEpoch):\n",
    "\n",
    "    percent_done  = 10\n",
    "    correct_array = np.zeros(numIter)\n",
    "\n",
    "    k = 0\n",
    "\n",
    "    for image_batch, label_batch in training_loader:\n",
    "\n",
    "        xPredict,x,y,total_detection_signal,indv_class_detection_signal,detection,multi_agent_reward_signal = detector.analyzeSignal(x,y,image_batch)\n",
    "        \n",
    "        k += 1\n",
    "\n",
    "        if k % (numIter/10) == 0:\n",
    "            print(str(percent_done) + '% Percent Done')\n",
    "            percent_done += 10\n",
    "\n",
    "        if k == numIter-1:\n",
    "            break\n",
    "        \n",
    "        total_detection_signal_array.append(total_detection_signal)\n",
    "        indv_class_detection_signal_array.append(indv_class_detection_signal)\n",
    "        \n",
    "total_detection_signal_array      = np.array(total_detection_signal_array)\n",
    "indv_class_detection_signal_array = np.array(indv_class_detection_signal_array)\n"
   ]
  }
 ],
 "metadata": {
  "kernelspec": {
   "display_name": "Python 3",
   "language": "python",
   "name": "python3"
  },
  "language_info": {
   "codemirror_mode": {
    "name": "ipython",
    "version": 3
   },
   "file_extension": ".py",
   "mimetype": "text/x-python",
   "name": "python",
   "nbconvert_exporter": "python",
   "pygments_lexer": "ipython3",
   "version": "3.7.3"
  }
 },
 "nbformat": 4,
 "nbformat_minor": 4
}
