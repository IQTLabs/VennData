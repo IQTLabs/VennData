{
 "cells": [
  {
   "cell_type": "code",
   "execution_count": null,
   "metadata": {},
   "outputs": [],
   "source": [
    "import torch\n",
    "import torchvision\n",
    "\n",
    "import torch.nn as nn\n",
    "import torch.nn.functional as F\n",
    "\n",
    "import tensorflow_datasets as tfds\n",
    "\n",
    "import numpy as np\n",
    "\n",
    "import matplotlib.pyplot as plt\n",
    "\n",
    "from torch.utils.data import TensorDataset, DataLoader\n",
    "from torch import optim \n",
    "\n",
    "device = torch.device(\"cuda:0\")\n",
    "\n",
    "torch.cuda.set_device(device)"
   ]
  },
  {
   "cell_type": "markdown",
   "metadata": {},
   "source": [
    "# Loading Data Sets"
   ]
  },
  {
   "cell_type": "code",
   "execution_count": null,
   "metadata": {},
   "outputs": [],
   "source": [
    "training_images, training_labels = tfds.as_numpy(tfds.load(\n",
    "                                        'mnist',\n",
    "                                        split='train', \n",
    "                                        batch_size=-1, \n",
    "                                        as_supervised=True,\n",
    "                                    ))"
   ]
  },
  {
   "cell_type": "code",
   "execution_count": null,
   "metadata": {},
   "outputs": [],
   "source": [
    "testing_images, testing_labels = tfds.as_numpy(tfds.load(\n",
    "                                        'mnist',\n",
    "                                        split='test', \n",
    "                                        batch_size=-1, \n",
    "                                        as_supervised=True,\n",
    "                                    ))"
   ]
  },
  {
   "cell_type": "markdown",
   "metadata": {},
   "source": [
    "# Initiate a random model\n",
    "Here we let the model choose the labels. The assumption is that if the data set changes, the model labels will change. This then changes the image frequency rate, leading to a change the detection signal"
   ]
  },
  {
   "cell_type": "code",
   "execution_count": null,
   "metadata": {},
   "outputs": [],
   "source": [
    "model = nn.Sequential(\n",
    "                nn.Conv1d(1,10,kernel_size=(3,3)),\n",
    "                nn.ReLU(),\n",
    "                nn.Conv1d(10,100,kernel_size=(3,3)),\n",
    "                nn.ReLU(),\n",
    "                nn.Flatten(),\n",
    "                nn.Linear(57600,10),\n",
    "            )\n",
    "\n",
    "model.to(device)"
   ]
  },
  {
   "cell_type": "code",
   "execution_count": null,
   "metadata": {},
   "outputs": [],
   "source": [
    "labels = np.zeros([10,10])\n",
    "\n",
    "for ii in range(10):\n",
    "    \n",
    "    labels[ii,ii] = 1"
   ]
  },
  {
   "cell_type": "markdown",
   "metadata": {},
   "source": [
    "# Load Data Loaders"
   ]
  },
  {
   "cell_type": "code",
   "execution_count": null,
   "metadata": {},
   "outputs": [],
   "source": [
    "training_images_pytorch = torch.Tensor(training_images).transpose(1,3)\n",
    "training_labels_pytorch = torch.Tensor(training_labels).type(torch.LongTensor)\n",
    "\n",
    "testing_images_pytorch = torch.Tensor(testing_images).transpose(1,3)\n",
    "testing_labels_pytorch = torch.Tensor(testing_labels).type(torch.LongTensor)\n",
    "\n",
    "training_dataset = TensorDataset(training_images_pytorch,training_labels_pytorch)\n",
    "testing_dataset  = TensorDataset(testing_images_pytorch,testing_labels_pytorch)\n",
    "\n",
    "training_loader = DataLoader(training_dataset, batch_size=1, shuffle=True, pin_memory=True,drop_last=True)\n",
    "testing_loader  = DataLoader(testing_dataset, batch_size=1, shuffle=True, pin_memory=True,drop_last=True)"
   ]
  },
  {
   "cell_type": "markdown",
   "metadata": {},
   "source": [
    "# Function Calls"
   ]
  },
  {
   "cell_type": "code",
   "execution_count": null,
   "metadata": {},
   "outputs": [],
   "source": [
    "def calculate_lambda(labels,label_vals):\n",
    "    \n",
    "    lambda_vals = np.zeros([len(label_vals)])\n",
    "    \n",
    "    for val in range(len(label_vals)):\n",
    "        \n",
    "        lambda_vals[val] = (val == labels).sum().item()/len(labels)\n",
    "        \n",
    "    return lambda_vals\n",
    "\n",
    "def LambdaPredictionTransition(x,lambda_vals):\n",
    "    \n",
    "    x = x + lambda_vals\n",
    "    return x\n",
    "\n",
    "def LambdaFilterTransition(x,y):\n",
    "    \n",
    "    x = x + 0.001*(y-x)\n",
    "    return x\n",
    "\n",
    "def LambdaObservation(y,label_pred):\n",
    "    \n",
    "    lambda_vals = calculate_lambda(label_pred,torch.Tensor(np.arange(0,10)).int())\n",
    "    y = y + lambda_vals\n",
    "    return y\n",
    "    \n",
    "def Residual(x,y):\n",
    "    \n",
    "    r = np.linalg.norm(x-y)\n",
    "    return r\n"
   ]
  },
  {
   "cell_type": "code",
   "execution_count": null,
   "metadata": {},
   "outputs": [],
   "source": [
    "x = np.zeros([10,len(training_loader)])\n",
    "n = 0\n",
    "\n",
    "model_labels = np.zeros([len(training_loader)])\n",
    "\n",
    "for image_batch, _ in training_loader:\n",
    "    \n",
    "    x[:,n] = model(image_batch.to(device)).cpu().data.numpy().squeeze()\n",
    "    model_labels[n] = x[:,n].argmax()\n",
    "    n += 1"
   ]
  },
  {
   "cell_type": "code",
   "execution_count": null,
   "metadata": {},
   "outputs": [],
   "source": [
    "x = np.zeros([10,len(training_loader)])\n",
    "n = 0\n",
    "\n",
    "detection_labels = np.zeros([len(training_loader)])\n",
    "\n",
    "for image_batch, _ in training_loader:\n",
    "    \n",
    "    image_batch = torch.randn(image_batch.size())\n",
    "    x[:,n] = model(image_batch.to(device)).cpu().data.numpy().squeeze()\n",
    "    detection_labels[n] = x[:,n].argmax()\n",
    "    n += 1"
   ]
  },
  {
   "cell_type": "code",
   "execution_count": null,
   "metadata": {},
   "outputs": [],
   "source": [
    "lambda_vals_model     = calculate_lambda(model_labels,torch.Tensor(np.arange(0,10)).int())\n",
    "lambda_vals_detection = calculate_lambda(detection_labels,torch.Tensor(np.arange(0,10)).int())"
   ]
  },
  {
   "cell_type": "code",
   "execution_count": null,
   "metadata": {},
   "outputs": [],
   "source": [
    "k = 0\n",
    "\n",
    "x = np.zeros([len(lambda_vals_model),len(testing_loader)])\n",
    "y = np.zeros([len(lambda_vals_model),len(testing_loader)])\n",
    "r = np.zeros([len(testing_loader)])\n",
    "\n",
    "for image_batch, label_batch in testing_loader:\n",
    "\n",
    "    model.eval()\n",
    "\n",
    "    output           = model(image_batch.to(device))\n",
    "\n",
    "    _, predicted     = torch.max(output.data, 1)\n",
    "    \n",
    "    x[:,k+1] = LambdaPredictionTransition(x[:,k],lambda_vals_model)\n",
    "    y[:,k+1] = LambdaObservation(y[:,k],predicted)\n",
    "    r[k]     = Residual(x[:,k+1],y[:,k+1])\n",
    "    x[:,k+1] = LambdaFilterTransition(x[:,k+1],y[:,k+1])\n",
    "\n",
    "    k += 1\n",
    "    \n",
    "    if k+1 == len(testing_loader):\n",
    "        break\n",
    "\n",
    "r_test = r\n",
    "\n",
    "k = 0\n",
    "\n",
    "x = np.zeros([len(lambda_vals_model),len(testing_loader)])\n",
    "y = np.zeros([len(lambda_vals_model),len(testing_loader)])\n",
    "r = np.zeros([len(testing_loader)])\n",
    "\n",
    "for image_batch, label_batch in testing_loader:\n",
    "\n",
    "    model.eval()\n",
    "    \n",
    "    image_batch += 100.0*torch.randn(image_batch.size())\n",
    "    \n",
    "    output           = model(image_batch.to(device))\n",
    "\n",
    "    _, predicted     = torch.max(output.data, 1)\n",
    "    \n",
    "    x[:,k+1] = LambdaPredictionTransition(x[:,k],lambda_vals_model)\n",
    "    y[:,k+1] = LambdaObservation(y[:,k],predicted)\n",
    "    r[k]     = Residual(x[:,k+1],y[:,k+1])\n",
    "    x[:,k+1] = LambdaFilterTransition(x[:,k+1],y[:,k+1])\n",
    "\n",
    "    k += 1\n",
    "    \n",
    "    if k+1 == len(testing_loader):\n",
    "        break\n",
    "\n",
    "r_detect = r"
   ]
  },
  {
   "cell_type": "markdown",
   "metadata": {},
   "source": [
    "# Plot Figures"
   ]
  },
  {
   "cell_type": "code",
   "execution_count": null,
   "metadata": {},
   "outputs": [],
   "source": [
    "plt.plot(r_test)\n",
    "plt.plot(r_detect)"
   ]
  },
  {
   "cell_type": "code",
   "execution_count": null,
   "metadata": {},
   "outputs": [],
   "source": [
    "bins = np.linspace(0,70,100)\n",
    "\n",
    "hist_no_shift, _ = np.histogram(r_test, bins=bins, density=True)\n",
    "hist_shift, _    = np.histogram(r_detect, bins=bins, density=True)\n",
    "\n",
    "line_up,   = plt.plot(bins[0:99],hist_no_shift, label='No Label Shift')\n",
    "line_down, = plt.plot(bins[0:99],hist_shift, label='Label Shift')\n",
    "\n",
    "plt.legend(handles=[line_up, line_down])"
   ]
  },
  {
   "cell_type": "code",
   "execution_count": null,
   "metadata": {},
   "outputs": [],
   "source": []
  }
 ],
 "metadata": {
  "kernelspec": {
   "display_name": "Python 3",
   "language": "python",
   "name": "python3"
  },
  "language_info": {
   "codemirror_mode": {
    "name": "ipython",
    "version": 3
   },
   "file_extension": ".py",
   "mimetype": "text/x-python",
   "name": "python",
   "nbconvert_exporter": "python",
   "pygments_lexer": "ipython3",
   "version": "3.7.3"
  }
 },
 "nbformat": 4,
 "nbformat_minor": 4
}
