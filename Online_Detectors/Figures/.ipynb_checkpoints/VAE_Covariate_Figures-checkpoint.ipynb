{
 "cells": [
  {
   "cell_type": "code",
   "execution_count": null,
   "metadata": {},
   "outputs": [],
   "source": [
    "import numpy as np\n",
    "import matplotlib.pyplot as plt\n",
    "import os"
   ]
  },
  {
   "cell_type": "code",
   "execution_count": null,
   "metadata": {},
   "outputs": [],
   "source": [
    "train_name = 'train_num_'\n",
    "test_name  = 'test_num_'\n",
    "gen_name   = 'gen_num_'"
   ]
  },
  {
   "cell_type": "code",
   "execution_count": null,
   "metadata": {},
   "outputs": [],
   "source": [
    "train_array = np.zeros([500,250])\n",
    "test_array  = np.zeros([500,250])\n",
    "gen_array = np.zeros([500,250])"
   ]
  },
  {
   "cell_type": "code",
   "execution_count": null,
   "metadata": {},
   "outputs": [],
   "source": [
    "for ii in range(250):\n",
    "\n",
    "    filename          = train_name+str(ii)+'.npy'\n",
    "    train_array[:,ii] = np.load(filename)\n",
    "    \n",
    "    filename          = test_name+str(ii)+'.npy'\n",
    "    test_array[:,ii]  = np.load(filename)\n",
    "    \n",
    "    filename          = gen_name+str(ii)+'.npy'\n",
    "    gen_array[:,ii]   = np.load(filename)"
   ]
  },
  {
   "cell_type": "code",
   "execution_count": null,
   "metadata": {},
   "outputs": [],
   "source": [
    "thresholds = np.linspace(0,0.25,1000)\n",
    "\n",
    "p_train = np.zeros([250,len(thresholds)])\n",
    "p_test  = np.zeros([250,len(thresholds)])\n",
    "p_gen   = np.zeros([250,len(thresholds)])\n",
    "\n",
    "for tt in range(len(thresholds)):\n",
    "    for ii in range(250):\n",
    "        p_train[ii,tt] = np.any(train_array[:,ii]>thresholds[tt])\n",
    "        p_test[ii,tt]  = np.any(test_array[:,ii]>thresholds[tt])\n",
    "        p_gen[ii,tt]   = np.any(gen_array[:,ii]>thresholds[tt])\n",
    "        "
   ]
  },
  {
   "cell_type": "code",
   "execution_count": null,
   "metadata": {},
   "outputs": [],
   "source": [
    "train_list = np.reshape(train_array,[500*250])\n",
    "test_list  = np.reshape(test_array,[500*250])\n",
    "gen_list   = np.reshape(gen_array,[500*250])"
   ]
  },
  {
   "cell_type": "code",
   "execution_count": null,
   "metadata": {},
   "outputs": [],
   "source": [
    "bins = np.linspace(0,0.25,100)\n",
    "\n",
    "prob_train,_ = np.histogram(train_list,bins)\n",
    "prob_test,_  = np.histogram(test_list,bins)\n",
    "prob_gen,_   = np.histogram(gen_list,bins)\n",
    "\n",
    "prob_train = prob_train/prob_train.sum()\n",
    "prob_test  = prob_test/prob_test.sum()\n",
    "prob_gen   = prob_gen/prob_gen.sum()\n"
   ]
  },
  {
   "cell_type": "code",
   "execution_count": null,
   "metadata": {},
   "outputs": [],
   "source": [
    "line_train, = plt.plot(bins[:len(bins)-1],prob_train, label='CIFAR-10 Training Data',color='r')\n",
    "line_test,  = plt.plot(bins[:len(bins)-1],prob_test, label='CIFAR-10 Testing Data',color='b')\n",
    "line_gen,   = plt.plot(bins[:len(bins)-1],prob_gen, label='Alt-CIFAR-10 Data',color='k')\n",
    "plt.legend(handles=[line_train, line_test, line_gen])\n",
    "plt.xlabel('Statistical Signal $g_k$')\n",
    "plt.ylabel('Probability $p(g_k)$')\n",
    "plt.ylim(0,0.3)\n",
    "plt.savefig('Dist_VAE_Cov.png')"
   ]
  },
  {
   "cell_type": "code",
   "execution_count": null,
   "metadata": {},
   "outputs": [],
   "source": [
    "import numpy as np\n",
    "from sklearn import metrics\n",
    "\n",
    "line_train, = plt.plot(p_train.sum(0)/250,p_gen.sum(0)/250, label='Training vs. Alt-CIFAR-10',color='r')\n",
    "line_test,  = plt.plot(p_test.sum(0)/250,p_gen.sum(0)/250, label='Testing vs. Alt-CIFAR-10',color='b')\n",
    "line,  = plt.plot([0.2,1],[0.2,1],color='k')\n",
    "plt.legend(handles=[line_train, line_test])\n",
    "plt.xlabel('False Detection Rate $p(g_k > \\\\theta|\\mathcal{H}_0)$')\n",
    "plt.ylabel('Detection Rate $p(g_k > \\\\theta|\\mathcal{H}_1)$')\n",
    "plt.text(0.6, 0.42, 'Train AUC: '+ str(np.round(metrics.auc(p_train.sum(0)/250, p_gen.sum(0)/250),2)), fontsize=12)\n",
    "plt.text(0.6, 0.35, 'Test AUC: '+ str(np.round(metrics.auc(p_test.sum(0)/250, p_gen.sum(0)/250),2)), fontsize=12)\n",
    "plt.savefig('ROC_VAE_Cov.png')"
   ]
  },
  {
   "cell_type": "code",
   "execution_count": null,
   "metadata": {},
   "outputs": [],
   "source": [
    "import numpy as np\n",
    "from sklearn import metrics\n",
    "\n",
    "line_train, = plt.plot(p_train.sum(0)/250,p_gen.sum(0)/250, label='Training vs. Alt-CIFAR-10',color='r')\n",
    "line_test,  = plt.plot(p_test.sum(0)/250,p_gen.sum(0)/250, label='Testing vs. Alt-CIFAR-10',color='b')\n",
    "line,  = plt.plot([0.2,1],[0.2,1],color='k')\n",
    "plt.legend(handles=[line_train, line_test])\n",
    "plt.xlabel('False Detection Rate $p(g_k > \\\\theta|\\mathcal{H}_0)$')\n",
    "plt.ylabel('Detection Rate $p(g_k > \\\\theta|\\mathcal{H}_1)$')\n",
    "plt.text(0.6, 0.42, 'Train AUC: '+ str(np.round(metrics.auc(p_train.sum(0)/250, p_gen.sum(0)/250),2)), fontsize=12)\n",
    "plt.text(0.6, 0.35, 'Test AUC: '+ str(np.round(metrics.auc(p_test.sum(0)/250, p_gen.sum(0)/250),2)), fontsize=12)\n",
    "plt.savefig('ROC_VAE_Cov.png')"
   ]
  },
  {
   "cell_type": "code",
   "execution_count": null,
   "metadata": {},
   "outputs": [],
   "source": []
  },
  {
   "cell_type": "code",
   "execution_count": null,
   "metadata": {},
   "outputs": [],
   "source": []
  },
  {
   "cell_type": "code",
   "execution_count": null,
   "metadata": {},
   "outputs": [],
   "source": []
  },
  {
   "cell_type": "code",
   "execution_count": null,
   "metadata": {},
   "outputs": [],
   "source": []
  },
  {
   "cell_type": "code",
   "execution_count": null,
   "metadata": {},
   "outputs": [],
   "source": []
  },
  {
   "cell_type": "code",
   "execution_count": null,
   "metadata": {},
   "outputs": [],
   "source": []
  }
 ],
 "metadata": {
  "kernelspec": {
   "display_name": "Python 3",
   "language": "python",
   "name": "python3"
  },
  "language_info": {
   "codemirror_mode": {
    "name": "ipython",
    "version": 3
   },
   "file_extension": ".py",
   "mimetype": "text/x-python",
   "name": "python",
   "nbconvert_exporter": "python",
   "pygments_lexer": "ipython3",
   "version": "3.7.3"
  }
 },
 "nbformat": 4,
 "nbformat_minor": 4
}
