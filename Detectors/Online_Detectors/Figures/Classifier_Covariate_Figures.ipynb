{
 "cells": [
  {
   "cell_type": "code",
   "execution_count": null,
   "metadata": {},
   "outputs": [],
   "source": [
    "import numpy as np\n",
    "import matplotlib.pyplot as plt\n",
    "import os\n"
   ]
  },
  {
   "cell_type": "code",
   "execution_count": null,
   "metadata": {},
   "outputs": [],
   "source": [
    "stats_path = '/home/jgornet/Covariate_Testing/Classifier_Statistics'\n",
    "\n",
    "train_file     = os.path.join(stats_path,'classifier_train.npy')\n",
    "test_file      = os.path.join(stats_path,'classifier_test.npy')\n",
    "gen_file       = os.path.join(stats_path,'classifier_gen.npy')\n",
    "flip_file      = os.path.join(stats_path,'classifier_flip.npy')\n",
    "zoom_file      = os.path.join(stats_path,'classifier_zoom.npy')\n",
    "bright_file    = os.path.join(stats_path,'classifier_bright.npy')\n",
    "translate_file = os.path.join(stats_path,'classifier_translate.npy')\n",
    "\n",
    "noise_file = os.path.join(stats_path,'classifier_noise.npy')"
   ]
  },
  {
   "cell_type": "code",
   "execution_count": null,
   "metadata": {},
   "outputs": [],
   "source": [
    "g_train     = np.load(train_file)\n",
    "g_test      = np.load(test_file)\n",
    "g_gen       = np.load(gen_file)\n",
    "g_flip      = np.load(flip_file)\n",
    "g_zoom      = np.load(zoom_file)\n",
    "g_bright    = np.load(bright_file)\n",
    "g_translate = np.load(translate_file)\n",
    "g_noise     = np.load(noise_file)"
   ]
  },
  {
   "cell_type": "code",
   "execution_count": null,
   "metadata": {},
   "outputs": [],
   "source": [
    "thresholds = np.linspace(0,150,1000)\n",
    "\n",
    "prob_train     = np.zeros([20,len(thresholds)])\n",
    "prob_test      = np.zeros([100,len(thresholds)])\n",
    "prob_gen       = np.zeros([100,len(thresholds)])\n",
    "prob_flip      = np.zeros([100,len(thresholds)])\n",
    "prob_zoom      = np.zeros([100,len(thresholds)])\n",
    "prob_bright    = np.zeros([100,len(thresholds)])\n",
    "prob_translate = np.zeros([100,len(thresholds)])\n",
    "prob_noise     = np.zeros([100,len(thresholds)])\n",
    "\n",
    "for tt in range(len(thresholds)):\n",
    "    for ii in range(100):\n",
    "        \n",
    "        #prob_train     = np.any(g_train[ii,:]>thresholds[tt])\n",
    "        prob_test[ii,tt]      = np.any(g_test[ii,:]>thresholds[tt])\n",
    "        prob_gen[ii,tt]       = np.any(g_gen[ii,:]>thresholds[tt])\n",
    "        prob_flip[ii,tt]      = np.any(g_flip[ii,:]>thresholds[tt])\n",
    "        prob_zoom[ii,tt]      = np.any(g_zoom[ii,:]>thresholds[tt])\n",
    "        prob_bright[ii,tt]    = np.any(g_bright[ii,:]>thresholds[tt])\n",
    "        prob_translate[ii,tt] = np.any(g_translate[ii,:]>thresholds[tt])\n",
    "        prob_noise[ii,tt]     = np.any(g_noise[ii,:]>thresholds[tt])\n",
    "        "
   ]
  },
  {
   "cell_type": "code",
   "execution_count": null,
   "metadata": {},
   "outputs": [],
   "source": [
    "line_test,      = plt.plot(thresholds,prob_test.sum(0)/100, label='CIFAR-10 Testing Data',color='0.9')\n",
    "line_flip,      = plt.plot(thresholds,prob_flip.sum(0)/100, label='Flip',color='0.85')\n",
    "line_gen,       = plt.plot(thresholds,prob_gen.sum(0)/100, label='Alt-CIFAR-10 Data',color='0.75')\n",
    "line_noise,     = plt.plot(thresholds,prob_noise.sum(0)/100, label='Noise',color='0.55')\n",
    "line_zoom,      = plt.plot(thresholds,prob_zoom.sum(0)/100, label='Zoom',color='0.35')\n",
    "line_bright,    = plt.plot(thresholds,prob_bright.sum(0)/100, label='Bright',color='0.1')\n",
    "line_translate, = plt.plot(thresholds,prob_translate.sum(0)/100, label='Translate',color='0')\n",
    "\n",
    "plt.legend(handles=[line_test,line_flip, line_gen, line_noise, line_zoom , line_bright, line_translate])\n",
    "\n",
    "plt.xlabel('Threshold $\\\\theta$')\n",
    "plt.ylabel('Detection Rate $p(g_k>\\\\theta)$')\n",
    "\n",
    "plt.savefig('Classifier_Cov.png')\n"
   ]
  },
  {
   "cell_type": "code",
   "execution_count": null,
   "metadata": {},
   "outputs": [],
   "source": []
  }
 ],
 "metadata": {
  "kernelspec": {
   "display_name": "Python 3",
   "language": "python",
   "name": "python3"
  },
  "language_info": {
   "codemirror_mode": {
    "name": "ipython",
    "version": 3
   },
   "file_extension": ".py",
   "mimetype": "text/x-python",
   "name": "python",
   "nbconvert_exporter": "python",
   "pygments_lexer": "ipython3",
   "version": "3.7.3"
  }
 },
 "nbformat": 4,
 "nbformat_minor": 4
}
