{
 "cells": [
  {
   "cell_type": "code",
   "execution_count": null,
   "metadata": {},
   "outputs": [],
   "source": [
    "import numpy as np\n",
    "import matplotlib.pyplot as plt\n",
    "import os\n"
   ]
  },
  {
   "cell_type": "code",
   "execution_count": null,
   "metadata": {},
   "outputs": [],
   "source": [
    "percentages = [ii/10 for ii in range(10)]\n",
    "stats_path = '/home/jgornet/Covariate_Testing/Classifier_Statistics'"
   ]
  },
  {
   "cell_type": "code",
   "execution_count": null,
   "metadata": {},
   "outputs": [],
   "source": [
    "g    = np.empty((len(percentages),100,9900))\n",
    "g[:] = np.nan\n",
    "\n",
    "for p in range(len(percentages)):\n",
    "\n",
    "    save_file = os.path.join(stats_path,'classifier_percent_' + str(p) + '.npy')\n",
    "\n",
    "    var                  = np.load(save_file)\n",
    "    g[p,:,:var.shape[1]] = var"
   ]
  },
  {
   "cell_type": "code",
   "execution_count": null,
   "metadata": {},
   "outputs": [],
   "source": [
    "thresholds = np.linspace(0,80,1000)\n",
    "prob       = np.zeros([len(percentages),100,len(thresholds)])\n",
    "\n",
    "for p in range(len(percentages)):\n",
    "    for tt in range(len(thresholds)):\n",
    "        for ii in range(100):\n",
    "\n",
    "            prob[p,ii,tt] = np.any(g[p,ii,:]>thresholds[tt])"
   ]
  },
  {
   "cell_type": "code",
   "execution_count": null,
   "metadata": {},
   "outputs": [],
   "source": [
    "plt.plot(thresholds,(prob.sum(1)/100).transpose(1,0))"
   ]
  },
  {
   "cell_type": "code",
   "execution_count": null,
   "metadata": {},
   "outputs": [],
   "source": [
    "bins = np.linspace(0,50,100)\n",
    "dist = np.zeros([10,99])\n",
    "\n",
    "for ii in range(10):\n",
    "    \n",
    "    var        = np.reshape(g[ii,:,:],[100*9900])\n",
    "    d,_        = np.histogram(var,bins)\n",
    "    dist[ii,:] = d/d.sum()\n",
    "    "
   ]
  },
  {
   "cell_type": "code",
   "execution_count": null,
   "metadata": {},
   "outputs": [],
   "source": [
    "line_1, = plt.plot(bins[:99],dist[0,:],color='0.0',label=str(percentages[0]*100) + '%')\n",
    "line_2, = plt.plot(bins[:99],dist[1,:],color='0.1',label=str(percentages[1]*100) + '%')\n",
    "line_3, = plt.plot(bins[:99],dist[2,:],color='0.2',label=str(percentages[2]*100) + '%')\n",
    "line_4, = plt.plot(bins[:99],dist[3,:],color='0.3',label=str(percentages[3]*100) + '%')\n",
    "line_5, = plt.plot(bins[:99],dist[4,:],color='0.4',label=str(percentages[4]*100) + '%')\n",
    "line_6, = plt.plot(bins[:99],dist[5,:],color='0.5',label=str(percentages[5]*100) + '%')\n",
    "line_7, = plt.plot(bins[:99],dist[6,:],color='0.6',label=str(percentages[6]*100) + '%')\n",
    "line_8, = plt.plot(bins[:99],dist[7,:],color='0.7',label=str(percentages[7]*100) + '%')\n",
    "line_9, = plt.plot(bins[:99],dist[8,:],color='0.8',label=str(percentages[8]*100) + '%')\n",
    "line_10, = plt.plot(bins[:99],dist[9,:],color='0.9',label=str(percentages[9]*100) + '%')\n",
    "\n",
    "plt.legend(handles=[line_1,line_2,line_3,line_4,line_5,line_6,line_7,line_8,line_9,line_10])\n",
    "\n",
    "plt.xlabel('Detection Signal $g_k$')\n",
    "plt.ylabel('Probability $p(g_k)$')\n",
    "\n",
    "plt.savefig('Classifier_Label.png')\n"
   ]
  },
  {
   "cell_type": "code",
   "execution_count": null,
   "metadata": {},
   "outputs": [],
   "source": []
  }
 ],
 "metadata": {
  "kernelspec": {
   "display_name": "Python 3",
   "language": "python",
   "name": "python3"
  },
  "language_info": {
   "codemirror_mode": {
    "name": "ipython",
    "version": 3
   },
   "file_extension": ".py",
   "mimetype": "text/x-python",
   "name": "python",
   "nbconvert_exporter": "python",
   "pygments_lexer": "ipython3",
   "version": "3.7.3"
  }
 },
 "nbformat": 4,
 "nbformat_minor": 4
}
